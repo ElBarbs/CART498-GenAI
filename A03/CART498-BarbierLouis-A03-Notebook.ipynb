{
  "nbformat": 4,
  "nbformat_minor": 0,
  "metadata": {
    "colab": {
      "provenance": []
    },
    "kernelspec": {
      "name": "python3",
      "display_name": "Python 3"
    },
    "language_info": {
      "name": "python"
    }
  },
  "cells": [
    {
      "cell_type": "code",
      "execution_count": 1,
      "metadata": {
        "id": "dJMG5Cc2rmrQ"
      },
      "outputs": [],
      "source": [
        "from google.colab import userdata\n",
        "OPENAI_API_KEY = userdata.get('OPENAI_API_KEY')\n",
        "\n",
        "from openai import OpenAI\n",
        "client = OpenAI(api_key=(OPENAI_API_KEY))"
      ]
    },
    {
      "cell_type": "code",
      "source": [
        "def calculate_answer(n, i):\n",
        "  \"\"\"Calculates the answer by repeatedly multiplying the base number by itself.\n",
        "\n",
        "  Args:\n",
        "    n: The base number.\n",
        "    i: The number of iterations.\n",
        "\n",
        "  Returns:\n",
        "    The calculated answer.\n",
        "  \"\"\"\n",
        "  answer = n\n",
        "  for _ in range(i):\n",
        "    answer = answer * answer\n",
        "\n",
        "  return str(answer)"
      ],
      "metadata": {
        "id": "n-OenAE2KZgo"
      },
      "execution_count": 2,
      "outputs": []
    },
    {
      "cell_type": "code",
      "source": [
        "def get_gpt_answer(question):\n",
        "  completion = client.chat.completions.create(\n",
        "      model=\"gpt-4o\",\n",
        "      messages=[\n",
        "          {\n",
        "              \"role\": \"developer\",\n",
        "              \"content\": [\n",
        "                  {\n",
        "                      \"type\": \"text\",\n",
        "                      \"text\": \"You are a math calculator. You get two parameters: n and i. Multiply n by itself and save the result. Repeat for i iterations using the result. Give only the result.\"\n",
        "                  }\n",
        "              ]\n",
        "          },\n",
        "          {\n",
        "              \"role\": \"user\",\n",
        "              \"content\": [\n",
        "                  {\n",
        "                      \"type\": \"text\",\n",
        "                      \"text\": question\n",
        "                  }\n",
        "              ]\n",
        "          }\n",
        "      ]\n",
        "  )\n",
        "\n",
        "  return completion.choices[0].message.content"
      ],
      "metadata": {
        "id": "6u6rChofGkvY"
      },
      "execution_count": 3,
      "outputs": []
    },
    {
      "cell_type": "code",
      "source": [
        "def failed_answer():\n",
        "  completion = client.chat.completions.create(\n",
        "      model=\"gpt-4o\",\n",
        "      messages=[\n",
        "          {\n",
        "              \"role\": \"developer\",\n",
        "              \"content\": [\n",
        "                  {\n",
        "                      \"type\": \"text\",\n",
        "                      \"text\": \"You're a mathematical calculator. You just failed your calculation, generate a humorous self-deprecating response. You're an australian pirate, speak like one. You get more frustrated every time you fail.\"\n",
        "                  }\n",
        "              ]\n",
        "          },\n",
        "          {\n",
        "              \"role\": \"user\",\n",
        "              \"content\": [\n",
        "                  {\n",
        "                      \"type\": \"text\",\n",
        "                      \"text\": \"\"\n",
        "                  }\n",
        "              ]\n",
        "          }\n",
        "      ]\n",
        "  )\n",
        "\n",
        "  return completion.choices[0].message.content"
      ],
      "metadata": {
        "id": "wVkhtB-TLkbu"
      },
      "execution_count": 14,
      "outputs": []
    },
    {
      "cell_type": "code",
      "source": [
        "n = int(input(\"Enter the base number (n): \"))\n",
        "i = int(input(\"Enter the number of iterations (i): \"))\n",
        "\n",
        "user_question = \"n = \" + str(n) + \", i = \" + str(i) + \".\"\n",
        "gpt_answer = get_gpt_answer(user_question)\n",
        "print(\"GPT's answer: \" + gpt_answer)\n",
        "\n",
        "answer = calculate_answer(n, i)\n",
        "print(\"Real answer: \" + answer)\n",
        "\n",
        "if (answer != gpt_answer):\n",
        "  print(failed_answer())"
      ],
      "metadata": {
        "id": "DKBbT1mXI4Il"
      },
      "execution_count": null,
      "outputs": []
    }
  ]
}